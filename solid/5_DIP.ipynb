{
 "cells": [
  {
   "attachments": {},
   "cell_type": "markdown",
   "metadata": {},
   "source": [
    "# The Dependency inversion Principle (DIP)\n",
    "\n",
    "#### *High-level modules should not depend on low-level modules. Both should depend on abstractions.*\n",
    "#### *Abstractions should not depend on details. Details should depend on abstractions.*"
   ]
  },
  {
   "cell_type": "code",
   "execution_count": null,
   "metadata": {},
   "outputs": [],
   "source": [
    "class Guitar:\n",
    "    def play(self) -> None:  # Low-level module\n",
    "        print(\"Playing guitar...\")\n",
    "\n",
    "\n",
    "def play_music() -> None:  # High-level module\n",
    "    print('Start recording...')\n",
    "    guitar = Guitar()\n",
    "    guitar.play()\n",
    "    print('Stop recording...')\n",
    "\n",
    "\n",
    "play_music()\n",
    "\n",
    "\n",
    "# Problem 1: play_music() depends on Guitar = high coupling -> play_music() needs to know Guitar implementation\n",
    "# Problem 2: to extend play_music() with violin you need to modify play_music() definition = OCP violation"
   ]
  },
  {
   "attachments": {},
   "cell_type": "markdown",
   "metadata": {},
   "source": [
    "![](../media/5_DIP.png)"
   ]
  },
  {
   "cell_type": "code",
   "execution_count": null,
   "metadata": {},
   "outputs": [],
   "source": [
    "from abc import ABC, abstractmethod\n",
    "\n",
    "\n",
    "# Solution: dependency inversion\n",
    "class Instrument(ABC):\n",
    "    @abstractmethod\n",
    "    def play(self) -> None:  # enforced interface\n",
    "        ...\n",
    "\n",
    "\n",
    "class Guitar(Instrument):\n",
    "    def play(self) -> None:\n",
    "        print(\"Playing guitar...\")\n",
    "\n",
    "\n",
    "class Violin(Instrument):\n",
    "    def play(self) -> None:\n",
    "        print(\"Playing violin...\")\n",
    "\n",
    "\n",
    "def play_music(instrument: Instrument) -> None:\n",
    "    print(\"Start recording...\")\n",
    "    instrument.play()\n",
    "    print(\"Stop recording...\")\n",
    "\n",
    "\n",
    "guitar = Guitar()\n",
    "violin = Violin()\n",
    "play_music(instrument=guitar)\n",
    "play_music(instrument=violin)\n",
    "\n",
    "# play_music() now depends on abstraction\n",
    "# Guitar and Violin also depend on abstraction"
   ]
  },
  {
   "attachments": {},
   "cell_type": "markdown",
   "metadata": {},
   "source": [
    "Questions?"
   ]
  }
 ],
 "metadata": {
  "kernelspec": {
   "display_name": "python-oop-r_Rj-fig-py3.10",
   "language": "python",
   "name": "python3"
  },
  "language_info": {
   "codemirror_mode": {
    "name": "ipython",
    "version": 3
   },
   "file_extension": ".py",
   "mimetype": "text/x-python",
   "name": "python",
   "nbconvert_exporter": "python",
   "pygments_lexer": "ipython3",
   "version": "3.10.6"
  },
  "orig_nbformat": 4,
  "vscode": {
   "interpreter": {
    "hash": "61a0187907a68c34b7d3c9479ef03cf0dde3071604f882e18ddbd2f3d951afe1"
   }
  }
 },
 "nbformat": 4,
 "nbformat_minor": 2
}
