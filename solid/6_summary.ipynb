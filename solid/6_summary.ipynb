{
 "cells": [
  {
   "attachments": {},
   "cell_type": "markdown",
   "metadata": {},
   "source": [
    "# Summary\n",
    "* The Single-Responsibility Principle (SRP) - make sure class/function has single, well-defined responsibility\n",
    "* The Open-Closed Principle (OCP) - make your classes open for extension but assess \n",
    "* The Liskov Substitution Principle (LSP) - ensure that subclass interface contains the same iterface (with exact signatures) as its superclass\n",
    "* The Interface Segregation Principle (ISP) - don't force interface on class that doesn't fit the abstract\n",
    "* The Dependency inversion Principle (DIP) - avoid direct dependencies between low-level and high-level modules"
   ]
  }
 ],
 "metadata": {
  "kernelspec": {
   "display_name": "Python 3",
   "language": "python",
   "name": "python3"
  },
  "language_info": {
   "name": "python",
   "version": "3.10.6"
  },
  "orig_nbformat": 4,
  "vscode": {
   "interpreter": {
    "hash": "631cc59691aa2975cf441ed089e512e56035cd73b61a7e03a7a910c32bac454c"
   }
  }
 },
 "nbformat": 4,
 "nbformat_minor": 2
}
