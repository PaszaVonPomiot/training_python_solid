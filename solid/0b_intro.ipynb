{
 "cells": [
  {
   "attachments": {},
   "cell_type": "markdown",
   "metadata": {},
   "source": [
    "# Introduction\n",
    "SOLID principles are a set of five design principles introduced in year 2000 by Robert C. Martin (\"Uncle Bob\") that help developers write maintainable and scalable code. Following these principles prevents \"Software rot\".\n",
    "\n",
    "> Software rot - slow degradation of software quality over time resulting in lowered performance or increased failures\n",
    "\n",
    "### Principles\n",
    "* The Single-Responsibility Principle (SRP)\n",
    "* The Open-Closed Principle (OCP)\n",
    "* The Liskov Substitution Principle (LSP)\n",
    "* The Interface Segregation Principle (ISP)\n",
    "* The Dependency inversion Principle (DIP)\n",
    "\n"
   ]
  }
 ],
 "metadata": {
  "kernelspec": {
   "display_name": "Python 3",
   "language": "python",
   "name": "python3"
  },
  "language_info": {
   "name": "python",
   "version": "3.10.6"
  },
  "orig_nbformat": 4,
  "vscode": {
   "interpreter": {
    "hash": "631cc59691aa2975cf441ed089e512e56035cd73b61a7e03a7a910c32bac454c"
   }
  }
 },
 "nbformat": 4,
 "nbformat_minor": 2
}
